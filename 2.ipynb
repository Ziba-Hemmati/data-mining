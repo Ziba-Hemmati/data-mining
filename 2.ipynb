{
 "cells": [
  {
   "cell_type": "code",
   "execution_count": 2,
   "id": "20b9af13-fd6f-4b50-be45-da87e6426450",
   "metadata": {},
   "outputs": [
    {
     "name": "stdout",
     "output_type": "stream",
     "text": [
      "   User ID Group  Page Views  Time Spent Conversion   Device          Location\n",
      "0    14292     B           3         424         No   Mobile  Northern Ireland\n",
      "1    11682     A           9         342         No   Mobile          Scotland\n",
      "2    19825     A           2         396         No  Desktop  Northern Ireland\n",
      "3    16080     B           4         318         No  Desktop             Wales\n",
      "4    18851     A           1         338        Yes  Desktop          Scotland\n"
     ]
    }
   ],
   "source": [
    "import pandas as pd\n",
    "\n",
    "data = pd.read_csv('D:/Programming/data-set/ab_testing.csv')\n",
    "\n",
    "# پاکسازی داده (Cleaning Data)\n",
    "# بررسی مقادیر منفی در ستون‌های عددی (Page Views, Time Spent)\n",
    "data = data[(data['Page Views'] >= 0) & (data['Time Spent'] >= 0)]\n",
    "\n",
    "# مشاهده داده‌های پاکسازی شده\n",
    "print(data.head())\n",
    "\n",
    "# ذخیره داده‌های پاکسازی شده\n",
    "data.to_csv('cleaned_data.csv', index=False)"
   ]
  },
  {
   "cell_type": "code",
   "execution_count": 4,
   "id": "90b5637b-0d8a-4cd4-9d94-7e39f5dbbae8",
   "metadata": {},
   "outputs": [
    {
     "name": "stdout",
     "output_type": "stream",
     "text": [
      "   User ID  Group  Page Views  Time Spent Conversion  Device  \\\n",
      "0    14292      1           3         424         No       0   \n",
      "1    11682      0           9         342         No       0   \n",
      "2    19825      0           2         396         No       1   \n",
      "3    16080      1           4         318         No       1   \n",
      "4    18851      0           1         338        Yes       1   \n",
      "\n",
      "   Location_England  Location_Northern Ireland  Location_Scotland  \\\n",
      "0             False                       True              False   \n",
      "1             False                      False               True   \n",
      "2             False                       True              False   \n",
      "3             False                      False              False   \n",
      "4             False                      False               True   \n",
      "\n",
      "   Location_Wales  \n",
      "0           False  \n",
      "1           False  \n",
      "2           False  \n",
      "3            True  \n",
      "4           False  \n"
     ]
    }
   ],
   "source": [
    "# 2. تبدیل داده (Transformation Data)\n",
    "# تبدیل ستون‌های متنی به مقادیر عددی با استفاده از کدگذاری برچسب (Label Encoding) برای 'Group' و 'Device'\n",
    "data['Group'] = data['Group'].map({'A': 0, 'B': 1})\n",
    "data['Device'] = data['Device'].map({'Mobile': 0, 'Desktop': 1})\n",
    "\n",
    "# تبدیل Location به متغیرهای جداگانه با استفاده از One-Hot Encoding\n",
    "data = pd.get_dummies(data, columns=['Location'])\n",
    "\n",
    "# مشاهده داده‌های تبدیل شده\n",
    "print(data.head())\n",
    "\n",
    "# ذخیره داده‌های پیش‌پردازش شده\n",
    "data.to_csv('processed_data.csv', index=False)"
   ]
  },
  {
   "cell_type": "code",
   "execution_count": null,
   "id": "429fd535-bd67-4a41-adb4-cde2b2ec1aab",
   "metadata": {},
   "outputs": [],
   "source": []
  }
 ],
 "metadata": {
  "kernelspec": {
   "display_name": "Python 3 (ipykernel)",
   "language": "python",
   "name": "python3"
  },
  "language_info": {
   "codemirror_mode": {
    "name": "ipython",
    "version": 3
   },
   "file_extension": ".py",
   "mimetype": "text/x-python",
   "name": "python",
   "nbconvert_exporter": "python",
   "pygments_lexer": "ipython3",
   "version": "3.11.8"
  }
 },
 "nbformat": 4,
 "nbformat_minor": 5
}
